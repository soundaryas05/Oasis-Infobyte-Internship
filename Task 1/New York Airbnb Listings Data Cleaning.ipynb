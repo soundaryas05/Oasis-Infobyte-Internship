{
 "cells": [
  {
   "cell_type": "code",
   "execution_count": 1,
   "id": "83e0cdef-3c4e-42ec-96ae-8c43fbeeded9",
   "metadata": {},
   "outputs": [],
   "source": [
    "import pandas as pd\n",
    "import numpy as np"
   ]
  },
  {
   "cell_type": "code",
   "execution_count": 2,
   "id": "13dbada1-7a71-4f38-8574-57f9a4d8ab87",
   "metadata": {},
   "outputs": [
    {
     "name": "stdout",
     "output_type": "stream",
     "text": [
      "Defaulting to user installation because normal site-packages is not writeable\n",
      "Requirement already satisfied: matplotlib in c:\\users\\ss\\appdata\\roaming\\python\\python312\\site-packages (3.9.2)\n",
      "Requirement already satisfied: contourpy>=1.0.1 in c:\\programdata\\anaconda3\\lib\\site-packages (from matplotlib) (1.2.0)\n",
      "Requirement already satisfied: cycler>=0.10 in c:\\users\\ss\\appdata\\roaming\\python\\python312\\site-packages (from matplotlib) (0.12.1)\n",
      "Requirement already satisfied: fonttools>=4.22.0 in c:\\users\\ss\\appdata\\roaming\\python\\python312\\site-packages (from matplotlib) (4.54.1)\n",
      "Requirement already satisfied: kiwisolver>=1.3.1 in c:\\users\\ss\\appdata\\roaming\\python\\python312\\site-packages (from matplotlib) (1.4.7)\n",
      "Requirement already satisfied: numpy>=1.23 in c:\\programdata\\anaconda3\\lib\\site-packages (from matplotlib) (1.26.4)\n",
      "Requirement already satisfied: packaging>=20.0 in c:\\programdata\\anaconda3\\lib\\site-packages (from matplotlib) (23.2)\n",
      "Requirement already satisfied: pillow>=8 in c:\\programdata\\anaconda3\\lib\\site-packages (from matplotlib) (10.3.0)\n",
      "Requirement already satisfied: pyparsing>=2.3.1 in c:\\users\\ss\\appdata\\roaming\\python\\python312\\site-packages (from matplotlib) (3.2.0)\n",
      "Requirement already satisfied: python-dateutil>=2.7 in c:\\programdata\\anaconda3\\lib\\site-packages (from matplotlib) (2.9.0.post0)\n",
      "Requirement already satisfied: six>=1.5 in c:\\programdata\\anaconda3\\lib\\site-packages (from python-dateutil>=2.7->matplotlib) (1.16.0)\n",
      "Note: you may need to restart the kernel to use updated packages.\n"
     ]
    }
   ],
   "source": [
    "pip install matplotlib"
   ]
  },
  {
   "cell_type": "code",
   "execution_count": 3,
   "id": "27cb4706-ada9-4c5d-b73b-429edc8d861f",
   "metadata": {},
   "outputs": [],
   "source": [
    "%matplotlib inline\n",
    "import matplotlib.pyplot as plt"
   ]
  },
  {
   "cell_type": "raw",
   "id": "5056150a-9a52-496a-b8cf-d7d1da1efb29",
   "metadata": {},
   "source": [
    "import scipy"
   ]
  },
  {
   "cell_type": "code",
   "execution_count": 4,
   "id": "212caaa7-d6a1-4462-a0d7-e5d8ff90b7d5",
   "metadata": {},
   "outputs": [
    {
     "name": "stdout",
     "output_type": "stream",
     "text": [
      "Defaulting to user installation because normal site-packages is not writeable\n",
      "Requirement already satisfied: scipy in c:\\users\\ss\\appdata\\roaming\\python\\python312\\site-packages (1.14.1)\n",
      "Requirement already satisfied: numpy<2.3,>=1.23.5 in c:\\programdata\\anaconda3\\lib\\site-packages (from scipy) (1.26.4)\n",
      "Note: you may need to restart the kernel to use updated packages.\n"
     ]
    }
   ],
   "source": [
    "pip install scipy"
   ]
  },
  {
   "cell_type": "code",
   "execution_count": 5,
   "id": "6fa97787-bab4-4c5d-9e29-8f587359cf71",
   "metadata": {},
   "outputs": [],
   "source": [
    "from scipy import stats"
   ]
  },
  {
   "cell_type": "code",
   "execution_count": 6,
   "id": "517dc0a6-0c29-4f30-a560-2404b2a064b1",
   "metadata": {},
   "outputs": [
    {
     "name": "stdout",
     "output_type": "stream",
     "text": [
      "Defaulting to user installation because normal site-packages is not writeable\n",
      "Requirement already satisfied: seaborn in c:\\users\\ss\\appdata\\roaming\\python\\python312\\site-packages (0.13.2)\n",
      "Requirement already satisfied: numpy!=1.24.0,>=1.20 in c:\\programdata\\anaconda3\\lib\\site-packages (from seaborn) (1.26.4)\n",
      "Requirement already satisfied: pandas>=1.2 in c:\\programdata\\anaconda3\\lib\\site-packages (from seaborn) (2.2.2)\n",
      "Requirement already satisfied: matplotlib!=3.6.1,>=3.4 in c:\\users\\ss\\appdata\\roaming\\python\\python312\\site-packages (from seaborn) (3.9.2)\n",
      "Requirement already satisfied: contourpy>=1.0.1 in c:\\programdata\\anaconda3\\lib\\site-packages (from matplotlib!=3.6.1,>=3.4->seaborn) (1.2.0)\n",
      "Requirement already satisfied: cycler>=0.10 in c:\\users\\ss\\appdata\\roaming\\python\\python312\\site-packages (from matplotlib!=3.6.1,>=3.4->seaborn) (0.12.1)\n",
      "Requirement already satisfied: fonttools>=4.22.0 in c:\\users\\ss\\appdata\\roaming\\python\\python312\\site-packages (from matplotlib!=3.6.1,>=3.4->seaborn) (4.54.1)\n",
      "Requirement already satisfied: kiwisolver>=1.3.1 in c:\\users\\ss\\appdata\\roaming\\python\\python312\\site-packages (from matplotlib!=3.6.1,>=3.4->seaborn) (1.4.7)\n",
      "Requirement already satisfied: packaging>=20.0 in c:\\programdata\\anaconda3\\lib\\site-packages (from matplotlib!=3.6.1,>=3.4->seaborn) (23.2)\n",
      "Requirement already satisfied: pillow>=8 in c:\\programdata\\anaconda3\\lib\\site-packages (from matplotlib!=3.6.1,>=3.4->seaborn) (10.3.0)\n",
      "Requirement already satisfied: pyparsing>=2.3.1 in c:\\users\\ss\\appdata\\roaming\\python\\python312\\site-packages (from matplotlib!=3.6.1,>=3.4->seaborn) (3.2.0)\n",
      "Requirement already satisfied: python-dateutil>=2.7 in c:\\programdata\\anaconda3\\lib\\site-packages (from matplotlib!=3.6.1,>=3.4->seaborn) (2.9.0.post0)\n",
      "Requirement already satisfied: pytz>=2020.1 in c:\\programdata\\anaconda3\\lib\\site-packages (from pandas>=1.2->seaborn) (2024.1)\n",
      "Requirement already satisfied: tzdata>=2022.7 in c:\\programdata\\anaconda3\\lib\\site-packages (from pandas>=1.2->seaborn) (2023.3)\n",
      "Requirement already satisfied: six>=1.5 in c:\\programdata\\anaconda3\\lib\\site-packages (from python-dateutil>=2.7->matplotlib!=3.6.1,>=3.4->seaborn) (1.16.0)\n",
      "Note: you may need to restart the kernel to use updated packages.\n"
     ]
    }
   ],
   "source": [
    "pip install seaborn"
   ]
  },
  {
   "cell_type": "code",
   "execution_count": 7,
   "id": "d8f1fd05-d31e-45ef-a51f-c0ed821f8230",
   "metadata": {},
   "outputs": [],
   "source": [
    "import seaborn as sns"
   ]
  },
  {
   "cell_type": "markdown",
   "id": "b7e178d6-b346-41fd-8b79-bf6d3c816d8c",
   "metadata": {},
   "source": [
    "### Load the CSV File and Explore the Data\n",
    "\n",
    "Before starting the data cleaning process, it's essential to first understand the dataset. This involves getting familiar with the data's context, interpreting the meaning of each value, and identifying potential issues that could arise during the cleaning process. Having a clear understanding of the data will help you select the most appropriate cleaning methods and avoid common pitfalls or errors down the line."
   ]
  },
  {
   "cell_type": "code",
   "execution_count": null,
   "id": "f8a35738-4a21-41ae-a4a8-9943f2264c8d",
   "metadata": {},
   "outputs": [],
   "source": [
    "## Data Loading\n",
    "\n",
    "In this step, we load the dataset from a CSV file using the `pandas` library.\n",
    "This allows us to import the data into a DataFrame, which is a tabular structure that we can work with for further analysis and cleaning.\n",
    "\n",
    "### Loading the CSV File\n",
    "\n",
    "To load the dataset, we use the `pd.read_csv()` function. This function reads the CSV file and converts it into a DataFrame.\n",
    "We will also inspect the first few rows to get an overview of the data structure."
   ]
  },
  {
   "cell_type": "code",
   "execution_count": 8,
   "id": "7d0978d4-6b29-4db7-a64a-f3068c0bc658",
   "metadata": {},
   "outputs": [
    {
     "data": {
      "text/html": [
       "<div>\n",
       "<style scoped>\n",
       "    .dataframe tbody tr th:only-of-type {\n",
       "        vertical-align: middle;\n",
       "    }\n",
       "\n",
       "    .dataframe tbody tr th {\n",
       "        vertical-align: top;\n",
       "    }\n",
       "\n",
       "    .dataframe thead th {\n",
       "        text-align: right;\n",
       "    }\n",
       "</style>\n",
       "<table border=\"1\" class=\"dataframe\">\n",
       "  <thead>\n",
       "    <tr style=\"text-align: right;\">\n",
       "      <th></th>\n",
       "      <th>id</th>\n",
       "      <th>name</th>\n",
       "      <th>host_id</th>\n",
       "      <th>host_name</th>\n",
       "      <th>neighbourhood_group</th>\n",
       "      <th>neighbourhood</th>\n",
       "      <th>latitude</th>\n",
       "      <th>longitude</th>\n",
       "      <th>room_type</th>\n",
       "      <th>price</th>\n",
       "      <th>minimum_nights</th>\n",
       "      <th>number_of_reviews</th>\n",
       "      <th>last_review</th>\n",
       "      <th>reviews_per_month</th>\n",
       "      <th>calculated_host_listings_count</th>\n",
       "      <th>availability_365</th>\n",
       "    </tr>\n",
       "  </thead>\n",
       "  <tbody>\n",
       "    <tr>\n",
       "      <th>0</th>\n",
       "      <td>2539</td>\n",
       "      <td>Clean &amp; quiet apt home by the park</td>\n",
       "      <td>2787</td>\n",
       "      <td>John</td>\n",
       "      <td>Brooklyn</td>\n",
       "      <td>Kensington</td>\n",
       "      <td>40.64749</td>\n",
       "      <td>-73.97237</td>\n",
       "      <td>Private room</td>\n",
       "      <td>149</td>\n",
       "      <td>1</td>\n",
       "      <td>9</td>\n",
       "      <td>2018-10-19</td>\n",
       "      <td>0.21</td>\n",
       "      <td>6</td>\n",
       "      <td>365</td>\n",
       "    </tr>\n",
       "    <tr>\n",
       "      <th>1</th>\n",
       "      <td>2595</td>\n",
       "      <td>Skylit Midtown Castle</td>\n",
       "      <td>2845</td>\n",
       "      <td>Jennifer</td>\n",
       "      <td>Manhattan</td>\n",
       "      <td>Midtown</td>\n",
       "      <td>40.75362</td>\n",
       "      <td>-73.98377</td>\n",
       "      <td>Entire home/apt</td>\n",
       "      <td>225</td>\n",
       "      <td>1</td>\n",
       "      <td>45</td>\n",
       "      <td>2019-05-21</td>\n",
       "      <td>0.38</td>\n",
       "      <td>2</td>\n",
       "      <td>355</td>\n",
       "    </tr>\n",
       "    <tr>\n",
       "      <th>2</th>\n",
       "      <td>3647</td>\n",
       "      <td>THE VILLAGE OF HARLEM....NEW YORK !</td>\n",
       "      <td>4632</td>\n",
       "      <td>Elisabeth</td>\n",
       "      <td>Manhattan</td>\n",
       "      <td>Harlem</td>\n",
       "      <td>40.80902</td>\n",
       "      <td>-73.94190</td>\n",
       "      <td>Private room</td>\n",
       "      <td>150</td>\n",
       "      <td>3</td>\n",
       "      <td>0</td>\n",
       "      <td>NaN</td>\n",
       "      <td>NaN</td>\n",
       "      <td>1</td>\n",
       "      <td>365</td>\n",
       "    </tr>\n",
       "    <tr>\n",
       "      <th>3</th>\n",
       "      <td>3831</td>\n",
       "      <td>Cozy Entire Floor of Brownstone</td>\n",
       "      <td>4869</td>\n",
       "      <td>LisaRoxanne</td>\n",
       "      <td>Brooklyn</td>\n",
       "      <td>Clinton Hill</td>\n",
       "      <td>40.68514</td>\n",
       "      <td>-73.95976</td>\n",
       "      <td>Entire home/apt</td>\n",
       "      <td>89</td>\n",
       "      <td>1</td>\n",
       "      <td>270</td>\n",
       "      <td>2019-07-05</td>\n",
       "      <td>4.64</td>\n",
       "      <td>1</td>\n",
       "      <td>194</td>\n",
       "    </tr>\n",
       "    <tr>\n",
       "      <th>4</th>\n",
       "      <td>5022</td>\n",
       "      <td>Entire Apt: Spacious Studio/Loft by central park</td>\n",
       "      <td>7192</td>\n",
       "      <td>Laura</td>\n",
       "      <td>Manhattan</td>\n",
       "      <td>East Harlem</td>\n",
       "      <td>40.79851</td>\n",
       "      <td>-73.94399</td>\n",
       "      <td>Entire home/apt</td>\n",
       "      <td>80</td>\n",
       "      <td>10</td>\n",
       "      <td>9</td>\n",
       "      <td>2018-11-19</td>\n",
       "      <td>0.10</td>\n",
       "      <td>1</td>\n",
       "      <td>0</td>\n",
       "    </tr>\n",
       "  </tbody>\n",
       "</table>\n",
       "</div>"
      ],
      "text/plain": [
       "     id                                              name  host_id  \\\n",
       "0  2539                Clean & quiet apt home by the park     2787   \n",
       "1  2595                             Skylit Midtown Castle     2845   \n",
       "2  3647               THE VILLAGE OF HARLEM....NEW YORK !     4632   \n",
       "3  3831                   Cozy Entire Floor of Brownstone     4869   \n",
       "4  5022  Entire Apt: Spacious Studio/Loft by central park     7192   \n",
       "\n",
       "     host_name neighbourhood_group neighbourhood  latitude  longitude  \\\n",
       "0         John            Brooklyn    Kensington  40.64749  -73.97237   \n",
       "1     Jennifer           Manhattan       Midtown  40.75362  -73.98377   \n",
       "2    Elisabeth           Manhattan        Harlem  40.80902  -73.94190   \n",
       "3  LisaRoxanne            Brooklyn  Clinton Hill  40.68514  -73.95976   \n",
       "4        Laura           Manhattan   East Harlem  40.79851  -73.94399   \n",
       "\n",
       "         room_type  price  minimum_nights  number_of_reviews last_review  \\\n",
       "0     Private room    149               1                  9  2018-10-19   \n",
       "1  Entire home/apt    225               1                 45  2019-05-21   \n",
       "2     Private room    150               3                  0         NaN   \n",
       "3  Entire home/apt     89               1                270  2019-07-05   \n",
       "4  Entire home/apt     80              10                  9  2018-11-19   \n",
       "\n",
       "   reviews_per_month  calculated_host_listings_count  availability_365  \n",
       "0               0.21                               6               365  \n",
       "1               0.38                               2               355  \n",
       "2                NaN                               1               365  \n",
       "3               4.64                               1               194  \n",
       "4               0.10                               1                 0  "
      ]
     },
     "execution_count": 8,
     "metadata": {},
     "output_type": "execute_result"
    }
   ],
   "source": [
    "# Create a DataFrame from CSV file\n",
    "df = pd.read_csv('Downloads/AB_NYC_2019.csv')\n",
    "\n",
    "# First 5 rows of the DataFrame\n",
    "df.head()\n"
   ]
  },
  {
   "cell_type": "code",
   "execution_count": 9,
   "id": "db6de564-2f75-4d65-b797-56ee98a14281",
   "metadata": {},
   "outputs": [
    {
     "name": "stdout",
     "output_type": "stream",
     "text": [
      "<class 'pandas.core.frame.DataFrame'>\n",
      "RangeIndex: 48895 entries, 0 to 48894\n",
      "Data columns (total 16 columns):\n",
      " #   Column                          Non-Null Count  Dtype  \n",
      "---  ------                          --------------  -----  \n",
      " 0   id                              48895 non-null  int64  \n",
      " 1   name                            48879 non-null  object \n",
      " 2   host_id                         48895 non-null  int64  \n",
      " 3   host_name                       48874 non-null  object \n",
      " 4   neighbourhood_group             48895 non-null  object \n",
      " 5   neighbourhood                   48895 non-null  object \n",
      " 6   latitude                        48895 non-null  float64\n",
      " 7   longitude                       48895 non-null  float64\n",
      " 8   room_type                       48895 non-null  object \n",
      " 9   price                           48895 non-null  int64  \n",
      " 10  minimum_nights                  48895 non-null  int64  \n",
      " 11  number_of_reviews               48895 non-null  int64  \n",
      " 12  last_review                     38843 non-null  object \n",
      " 13  reviews_per_month               38843 non-null  float64\n",
      " 14  calculated_host_listings_count  48895 non-null  int64  \n",
      " 15  availability_365                48895 non-null  int64  \n",
      "dtypes: float64(3), int64(7), object(6)\n",
      "memory usage: 6.0+ MB\n"
     ]
    }
   ],
   "source": [
    "# The summary information about the DataFrame\n",
    "df.info()"
   ]
  },
  {
   "cell_type": "markdown",
   "id": "381a5067-7a63-4773-8fae-4ba0a6af20a4",
   "metadata": {},
   "source": [
    "From the output, we observe that the DataFrame consists of 48,895 rows (entries) and 16 columns. These columns contain a variety of data types, such as `int64`, `float64`, and `object`. Additionally, we notice that certain columns, including 'name', 'host_name', 'last_review', and 'reviews_per_month', have missing values. This is evident from the difference between the total number of rows (48,895) and the number of non-null entries in these specific columns."
   ]
  },
  {
   "cell_type": "markdown",
   "id": "52a13848-a0ee-49e3-b12c-74df6edcaef3",
   "metadata": {},
   "source": [
    "### Data Types\n",
    "\n",
    "We notice that the 'last_review' column contains date values, but its data type is currently set to `object`. To facilitate date-related operations, we need to convert this column to the `datetime` data type. This will enable us to perform various date-based calculations and analyses more effectively."
   ]
  },
  {
   "cell_type": "code",
   "execution_count": 10,
   "id": "28f83aff-3afb-4158-895c-500e1f7e0920",
   "metadata": {},
   "outputs": [],
   "source": [
    "df['last_review'] = pd.to_datetime(df['last_review'])"
   ]
  },
  {
   "cell_type": "markdown",
   "id": "cfe53a09-81ab-469d-86cf-6de303a196c2",
   "metadata": {},
   "source": [
    "### Categorical Variables\n",
    "\n",
    "The columns 'neighbourhood_group', 'neighbourhood', and 'room_type' are categorical in nature. To optimize memory usage and improve performance, it would be more efficient to convert these columns from the `object` data type to the `category` data type."
   ]
  },
  {
   "cell_type": "code",
   "execution_count": 11,
   "id": "af96a20a-b64e-468e-84c1-14231a51b32b",
   "metadata": {},
   "outputs": [],
   "source": [
    "df['neighbourhood_group'] = df['neighbourhood_group'].astype('category')\n",
    "df['neighbourhood'] = df['neighbourhood'].astype('category')\n",
    "df['room_type'] = df['room_type'].astype('category')"
   ]
  },
  {
   "cell_type": "markdown",
   "id": "53a8b245-b543-480e-ba61-74a84ebe79de",
   "metadata": {},
   "source": [
    "### Unique Categories in Categorical Columns\n",
    "\n",
    "Next, let's take a look at the unique categories present in the 'neighbourhood_group', 'neighbourhood', and 'room_type' columns:"
   ]
  },
  {
   "cell_type": "code",
   "execution_count": 12,
   "id": "469f3bf2-634e-43d6-81d5-e72e98d1bd79",
   "metadata": {},
   "outputs": [
    {
     "data": {
      "text/plain": [
       "['Brooklyn', 'Manhattan', 'Manhattan', 'Brooklyn', 'Manhattan', ..., 'Brooklyn', 'Brooklyn', 'Manhattan', 'Manhattan', 'Manhattan']\n",
       "Length: 48895\n",
       "Categories (5, object): ['Bronx', 'Brooklyn', 'Manhattan', 'Queens', 'Staten Island']"
      ]
     },
     "execution_count": 12,
     "metadata": {},
     "output_type": "execute_result"
    }
   ],
   "source": [
    "df['neighbourhood_group'].values"
   ]
  },
  {
   "cell_type": "code",
   "execution_count": 13,
   "id": "eb36337b-9686-4264-ad58-3a01e9caf090",
   "metadata": {},
   "outputs": [
    {
     "data": {
      "text/plain": [
       "id                                         int64\n",
       "name                                      object\n",
       "host_id                                    int64\n",
       "host_name                                 object\n",
       "neighbourhood_group                     category\n",
       "neighbourhood                           category\n",
       "latitude                                 float64\n",
       "longitude                                float64\n",
       "room_type                               category\n",
       "price                                      int64\n",
       "minimum_nights                             int64\n",
       "number_of_reviews                          int64\n",
       "last_review                       datetime64[ns]\n",
       "reviews_per_month                        float64\n",
       "calculated_host_listings_count             int64\n",
       "availability_365                           int64\n",
       "dtype: object"
      ]
     },
     "execution_count": 13,
     "metadata": {},
     "output_type": "execute_result"
    }
   ],
   "source": [
    "# Check the data types\n",
    "df.dtypes"
   ]
  },
  {
   "cell_type": "markdown",
   "id": "927fa921-22df-4ab4-ab2b-fd744fe1b98a",
   "metadata": {},
   "source": [
    "### Duplicates\n",
    "\n",
    "Having duplicate rows in your dataset can negatively impact your analysis by overemphasizing certain data points, biasing statistical measures, and creating misleading conclusions about the data."
   ]
  },
  {
   "cell_type": "code",
   "execution_count": 14,
   "id": "d140cc98-41f9-4924-bdb3-a661d526aa43",
   "metadata": {},
   "outputs": [
    {
     "data": {
      "text/plain": [
       "0"
      ]
     },
     "execution_count": 14,
     "metadata": {},
     "output_type": "execute_result"
    }
   ],
   "source": [
    "df.duplicated().sum()"
   ]
  },
  {
   "cell_type": "markdown",
   "id": "995d18ce-18e1-406e-9a6f-bae771eff796",
   "metadata": {},
   "source": [
    "### No Duplicates\n",
    "\n",
    "The DataFrame does not contain any duplicate rows."
   ]
  },
  {
   "cell_type": "markdown",
   "id": "371ad722-85cc-4c95-b152-617ff8206ca5",
   "metadata": {},
   "source": [
    "### Missing Data\n",
    "\n",
    "Missing data can lead to issues like biased outcomes, inaccurate statistical conclusions, and potential errors in machine learning models. Identifying missing values allows you to choose the best strategy for dealing with them, whether that involves imputing the missing values or removing the rows containing them."
   ]
  },
  {
   "cell_type": "code",
   "execution_count": 15,
   "id": "a2ba97a7-834d-4bf0-b362-8785b022f090",
   "metadata": {},
   "outputs": [
    {
     "data": {
      "text/plain": [
       "id                                    0\n",
       "name                                 16\n",
       "host_id                               0\n",
       "host_name                            21\n",
       "neighbourhood_group                   0\n",
       "neighbourhood                         0\n",
       "latitude                              0\n",
       "longitude                             0\n",
       "room_type                             0\n",
       "price                                 0\n",
       "minimum_nights                        0\n",
       "number_of_reviews                     0\n",
       "last_review                       10052\n",
       "reviews_per_month                 10052\n",
       "calculated_host_listings_count        0\n",
       "availability_365                      0\n",
       "dtype: int64"
      ]
     },
     "execution_count": 15,
     "metadata": {},
     "output_type": "execute_result"
    }
   ],
   "source": [
    "df.isnull().sum()"
   ]
  },
  {
   "cell_type": "markdown",
   "id": "659a5c9d-6584-4629-96d0-7d06f46fcf79",
   "metadata": {},
   "source": [
    "### Missing Data\n",
    "\n",
    "The dataset contains missing values in four columns: 'name', 'host_name', 'last_review', and 'reviews_per_month'.\n",
    "\n",
    "There are several techniques available for handling missing data:\n",
    "\n",
    "- **Deletion**: One option is to remove the rows or columns containing missing values. This approach is appropriate when the amount of missing data is minimal and does not hold significant value for the analysis.\n",
    "\n",
    "- **Imputation**: Missing values can be replaced with estimated values. Common strategies include filling missing entries with the mean, median, or mode of the column. More advanced techniques, like regression models or machine learning algorithms, can also be used to predict the missing data.\n",
    "\n",
    "- **Interpolation**: This method estimates missing values based on surrounding data points. It is particularly useful in time series data, where you can estimate missing values by considering the trends in neighboring observations.\n",
    "\n",
    "- **Data Augmentation**: This technique involves generating new data points based on existing data. This can be done through statistical methods or machine learning algorithms to create additional synthetic data that helps to fill in missing values."
   ]
  },
  {
   "cell_type": "markdown",
   "id": "374ca7b9-7ea3-4f68-8f6c-904491242717",
   "metadata": {},
   "source": [
    "### Handling Missing Data in 'name' Column\n",
    "\n",
    "Given that the 'name' column is not significant for future analysis, we can replace its missing values with a placeholder such as 'N/A'. This ensures consistency in the dataset without affecting the integrity of our analysis.\n",
    "\n",
    "```python\n",
    "# Replace missing values in the 'name' column with 'N/A'\n",
    "df['name'].fillna('N/A', inplace=True)"
   ]
  },
  {
   "cell_type": "code",
   "execution_count": 16,
   "id": "fe083640-d1a6-40c4-b29f-2b87d8119e85",
   "metadata": {},
   "outputs": [],
   "source": [
    "df.fillna({'name': 'N/A'}, inplace=True)\n"
   ]
  },
  {
   "cell_type": "markdown",
   "id": "25d8627d-be85-4258-9f49-b6f7c7f78149",
   "metadata": {},
   "source": [
    "### Handling 'host_name' and 'last_review' Columns\n",
    "\n",
    "- The **'host_name'** column is irrelevant for our analysis, as it contains the names of the hosts, which do not contribute to the insights we're looking for. Therefore, we can safely remove this column from the dataset."
   ]
  },
  {
   "cell_type": "code",
   "execution_count": 17,
   "id": "3b01e343-e162-4417-8b12-cc263269f331",
   "metadata": {
    "scrolled": true
   },
   "outputs": [
    {
     "data": {
      "text/html": [
       "<div>\n",
       "<style scoped>\n",
       "    .dataframe tbody tr th:only-of-type {\n",
       "        vertical-align: middle;\n",
       "    }\n",
       "\n",
       "    .dataframe tbody tr th {\n",
       "        vertical-align: top;\n",
       "    }\n",
       "\n",
       "    .dataframe thead th {\n",
       "        text-align: right;\n",
       "    }\n",
       "</style>\n",
       "<table border=\"1\" class=\"dataframe\">\n",
       "  <thead>\n",
       "    <tr style=\"text-align: right;\">\n",
       "      <th></th>\n",
       "      <th>name</th>\n",
       "      <th>host_id</th>\n",
       "      <th>neighbourhood_group</th>\n",
       "      <th>neighbourhood</th>\n",
       "      <th>latitude</th>\n",
       "      <th>longitude</th>\n",
       "      <th>room_type</th>\n",
       "      <th>price</th>\n",
       "      <th>minimum_nights</th>\n",
       "      <th>number_of_reviews</th>\n",
       "      <th>reviews_per_month</th>\n",
       "      <th>calculated_host_listings_count</th>\n",
       "      <th>availability_365</th>\n",
       "    </tr>\n",
       "  </thead>\n",
       "  <tbody>\n",
       "    <tr>\n",
       "      <th>0</th>\n",
       "      <td>Clean &amp; quiet apt home by the park</td>\n",
       "      <td>2787</td>\n",
       "      <td>Brooklyn</td>\n",
       "      <td>Kensington</td>\n",
       "      <td>40.64749</td>\n",
       "      <td>-73.97237</td>\n",
       "      <td>Private room</td>\n",
       "      <td>149</td>\n",
       "      <td>1</td>\n",
       "      <td>9</td>\n",
       "      <td>0.21</td>\n",
       "      <td>6</td>\n",
       "      <td>365</td>\n",
       "    </tr>\n",
       "    <tr>\n",
       "      <th>1</th>\n",
       "      <td>Skylit Midtown Castle</td>\n",
       "      <td>2845</td>\n",
       "      <td>Manhattan</td>\n",
       "      <td>Midtown</td>\n",
       "      <td>40.75362</td>\n",
       "      <td>-73.98377</td>\n",
       "      <td>Entire home/apt</td>\n",
       "      <td>225</td>\n",
       "      <td>1</td>\n",
       "      <td>45</td>\n",
       "      <td>0.38</td>\n",
       "      <td>2</td>\n",
       "      <td>355</td>\n",
       "    </tr>\n",
       "    <tr>\n",
       "      <th>2</th>\n",
       "      <td>THE VILLAGE OF HARLEM....NEW YORK !</td>\n",
       "      <td>4632</td>\n",
       "      <td>Manhattan</td>\n",
       "      <td>Harlem</td>\n",
       "      <td>40.80902</td>\n",
       "      <td>-73.94190</td>\n",
       "      <td>Private room</td>\n",
       "      <td>150</td>\n",
       "      <td>3</td>\n",
       "      <td>0</td>\n",
       "      <td>NaN</td>\n",
       "      <td>1</td>\n",
       "      <td>365</td>\n",
       "    </tr>\n",
       "    <tr>\n",
       "      <th>3</th>\n",
       "      <td>Cozy Entire Floor of Brownstone</td>\n",
       "      <td>4869</td>\n",
       "      <td>Brooklyn</td>\n",
       "      <td>Clinton Hill</td>\n",
       "      <td>40.68514</td>\n",
       "      <td>-73.95976</td>\n",
       "      <td>Entire home/apt</td>\n",
       "      <td>89</td>\n",
       "      <td>1</td>\n",
       "      <td>270</td>\n",
       "      <td>4.64</td>\n",
       "      <td>1</td>\n",
       "      <td>194</td>\n",
       "    </tr>\n",
       "    <tr>\n",
       "      <th>4</th>\n",
       "      <td>Entire Apt: Spacious Studio/Loft by central park</td>\n",
       "      <td>7192</td>\n",
       "      <td>Manhattan</td>\n",
       "      <td>East Harlem</td>\n",
       "      <td>40.79851</td>\n",
       "      <td>-73.94399</td>\n",
       "      <td>Entire home/apt</td>\n",
       "      <td>80</td>\n",
       "      <td>10</td>\n",
       "      <td>9</td>\n",
       "      <td>0.10</td>\n",
       "      <td>1</td>\n",
       "      <td>0</td>\n",
       "    </tr>\n",
       "  </tbody>\n",
       "</table>\n",
       "</div>"
      ],
      "text/plain": [
       "                                               name  host_id  \\\n",
       "0                Clean & quiet apt home by the park     2787   \n",
       "1                             Skylit Midtown Castle     2845   \n",
       "2               THE VILLAGE OF HARLEM....NEW YORK !     4632   \n",
       "3                   Cozy Entire Floor of Brownstone     4869   \n",
       "4  Entire Apt: Spacious Studio/Loft by central park     7192   \n",
       "\n",
       "  neighbourhood_group neighbourhood  latitude  longitude        room_type  \\\n",
       "0            Brooklyn    Kensington  40.64749  -73.97237     Private room   \n",
       "1           Manhattan       Midtown  40.75362  -73.98377  Entire home/apt   \n",
       "2           Manhattan        Harlem  40.80902  -73.94190     Private room   \n",
       "3            Brooklyn  Clinton Hill  40.68514  -73.95976  Entire home/apt   \n",
       "4           Manhattan   East Harlem  40.79851  -73.94399  Entire home/apt   \n",
       "\n",
       "   price  minimum_nights  number_of_reviews  reviews_per_month  \\\n",
       "0    149               1                  9               0.21   \n",
       "1    225               1                 45               0.38   \n",
       "2    150               3                  0                NaN   \n",
       "3     89               1                270               4.64   \n",
       "4     80              10                  9               0.10   \n",
       "\n",
       "   calculated_host_listings_count  availability_365  \n",
       "0                               6               365  \n",
       "1                               2               355  \n",
       "2                               1               365  \n",
       "3                               1               194  \n",
       "4                               1                 0  "
      ]
     },
     "execution_count": 17,
     "metadata": {},
     "output_type": "execute_result"
    }
   ],
   "source": [
    "df.drop(['id', 'host_name', 'last_review'], axis=1, inplace=True)\n",
    "df.head()"
   ]
  },
  {
   "cell_type": "markdown",
   "id": "4ca8a43e-1384-4d08-8f01-4acee44fc48e",
   "metadata": {},
   "source": [
    "It is common practice to drop the **'id'** column during the data cleaning process. The 'id' column typically serves as a unique identifier for each row but does not contribute meaningful insights for analysis. As a result, it is often removed to streamline the dataset and focus on the more relevant variables."
   ]
  },
  {
   "cell_type": "markdown",
   "id": "ecc67310-b0a1-4b19-8800-6c8c53260871",
   "metadata": {},
   "source": [
    "### Handling Missing Values in 'reviews_per_month'\n",
    "\n",
    "The **'reviews_per_month'** column indicates the average number of reviews an item receives per month. If a value is missing, it suggests that the item has received no reviews at all. Therefore, we can impute the missing values by assigning a value of **0**, representing zero reviews per month."
   ]
  },
  {
   "cell_type": "code",
   "execution_count": 18,
   "id": "fca0b3a4-d699-4014-9e89-ec1855e3878c",
   "metadata": {},
   "outputs": [],
   "source": [
    "df.fillna({'reviews_per_month': 0}, inplace=True)"
   ]
  },
  {
   "cell_type": "code",
   "execution_count": 19,
   "id": "e58197a6-4b58-4166-a73c-9b8f88172725",
   "metadata": {},
   "outputs": [
    {
     "data": {
      "text/plain": [
       "name                              0\n",
       "host_id                           0\n",
       "neighbourhood_group               0\n",
       "neighbourhood                     0\n",
       "latitude                          0\n",
       "longitude                         0\n",
       "room_type                         0\n",
       "price                             0\n",
       "minimum_nights                    0\n",
       "number_of_reviews                 0\n",
       "reviews_per_month                 0\n",
       "calculated_host_listings_count    0\n",
       "availability_365                  0\n",
       "dtype: int64"
      ]
     },
     "execution_count": 19,
     "metadata": {},
     "output_type": "execute_result"
    }
   ],
   "source": [
    "df.isnull().sum()\n"
   ]
  },
  {
   "cell_type": "markdown",
   "id": "15f6ec79-4e14-4838-83e6-15a50f2bdd2d",
   "metadata": {},
   "source": [
    "### Missing Values Handled\n",
    "\n",
    "At this point, we have addressed the issue of missing values in the dataset. The missing entries have been appropriately handled by imputing values where necessary and removing irrelevant columns, ensuring that the data is now complete and ready for further analysis."
   ]
  },
  {
   "cell_type": "markdown",
   "id": "f3931c0c-39cd-4705-85a3-3c358d83100e",
   "metadata": {},
   "source": [
    "### Outliers\n",
    "\n",
    "Outliers are data points that significantly differ from the majority of the other values in a dataset. These values can be much higher or lower than the rest, and if left unchecked, they can skew the overall analysis, leading to misleading conclusions.\n",
    "\n",
    "Several techniques can be used to detect outliers, including visual methods like **boxplots** and **scatterplots**, as well as statistical methods such as the **z-score** or **interquartile range (IQR)**. Once outliers are identified, they can be handled in different ways: by removing them, adjusting them to more reasonable values, or treating them as a separate category for further analysis."
   ]
  },
  {
   "cell_type": "code",
   "execution_count": 20,
   "id": "f245c7c2-c093-4b79-be3b-fcf2a1486115",
   "metadata": {},
   "outputs": [
    {
     "data": {
      "text/html": [
       "<div>\n",
       "<style scoped>\n",
       "    .dataframe tbody tr th:only-of-type {\n",
       "        vertical-align: middle;\n",
       "    }\n",
       "\n",
       "    .dataframe tbody tr th {\n",
       "        vertical-align: top;\n",
       "    }\n",
       "\n",
       "    .dataframe thead th {\n",
       "        text-align: right;\n",
       "    }\n",
       "</style>\n",
       "<table border=\"1\" class=\"dataframe\">\n",
       "  <thead>\n",
       "    <tr style=\"text-align: right;\">\n",
       "      <th></th>\n",
       "      <th>host_id</th>\n",
       "      <th>latitude</th>\n",
       "      <th>longitude</th>\n",
       "      <th>price</th>\n",
       "      <th>minimum_nights</th>\n",
       "      <th>number_of_reviews</th>\n",
       "      <th>reviews_per_month</th>\n",
       "      <th>calculated_host_listings_count</th>\n",
       "      <th>availability_365</th>\n",
       "    </tr>\n",
       "  </thead>\n",
       "  <tbody>\n",
       "    <tr>\n",
       "      <th>count</th>\n",
       "      <td>4.889500e+04</td>\n",
       "      <td>48895.000000</td>\n",
       "      <td>48895.000000</td>\n",
       "      <td>48895.000000</td>\n",
       "      <td>48895.000000</td>\n",
       "      <td>48895.000000</td>\n",
       "      <td>48895.000000</td>\n",
       "      <td>48895.000000</td>\n",
       "      <td>48895.000000</td>\n",
       "    </tr>\n",
       "    <tr>\n",
       "      <th>mean</th>\n",
       "      <td>6.762001e+07</td>\n",
       "      <td>40.728949</td>\n",
       "      <td>-73.952170</td>\n",
       "      <td>152.720687</td>\n",
       "      <td>7.029962</td>\n",
       "      <td>23.274466</td>\n",
       "      <td>1.090910</td>\n",
       "      <td>7.143982</td>\n",
       "      <td>112.781327</td>\n",
       "    </tr>\n",
       "    <tr>\n",
       "      <th>std</th>\n",
       "      <td>7.861097e+07</td>\n",
       "      <td>0.054530</td>\n",
       "      <td>0.046157</td>\n",
       "      <td>240.154170</td>\n",
       "      <td>20.510550</td>\n",
       "      <td>44.550582</td>\n",
       "      <td>1.597283</td>\n",
       "      <td>32.952519</td>\n",
       "      <td>131.622289</td>\n",
       "    </tr>\n",
       "    <tr>\n",
       "      <th>min</th>\n",
       "      <td>2.438000e+03</td>\n",
       "      <td>40.499790</td>\n",
       "      <td>-74.244420</td>\n",
       "      <td>0.000000</td>\n",
       "      <td>1.000000</td>\n",
       "      <td>0.000000</td>\n",
       "      <td>0.000000</td>\n",
       "      <td>1.000000</td>\n",
       "      <td>0.000000</td>\n",
       "    </tr>\n",
       "    <tr>\n",
       "      <th>25%</th>\n",
       "      <td>7.822033e+06</td>\n",
       "      <td>40.690100</td>\n",
       "      <td>-73.983070</td>\n",
       "      <td>69.000000</td>\n",
       "      <td>1.000000</td>\n",
       "      <td>1.000000</td>\n",
       "      <td>0.040000</td>\n",
       "      <td>1.000000</td>\n",
       "      <td>0.000000</td>\n",
       "    </tr>\n",
       "    <tr>\n",
       "      <th>50%</th>\n",
       "      <td>3.079382e+07</td>\n",
       "      <td>40.723070</td>\n",
       "      <td>-73.955680</td>\n",
       "      <td>106.000000</td>\n",
       "      <td>3.000000</td>\n",
       "      <td>5.000000</td>\n",
       "      <td>0.370000</td>\n",
       "      <td>1.000000</td>\n",
       "      <td>45.000000</td>\n",
       "    </tr>\n",
       "    <tr>\n",
       "      <th>75%</th>\n",
       "      <td>1.074344e+08</td>\n",
       "      <td>40.763115</td>\n",
       "      <td>-73.936275</td>\n",
       "      <td>175.000000</td>\n",
       "      <td>5.000000</td>\n",
       "      <td>24.000000</td>\n",
       "      <td>1.580000</td>\n",
       "      <td>2.000000</td>\n",
       "      <td>227.000000</td>\n",
       "    </tr>\n",
       "    <tr>\n",
       "      <th>max</th>\n",
       "      <td>2.743213e+08</td>\n",
       "      <td>40.913060</td>\n",
       "      <td>-73.712990</td>\n",
       "      <td>10000.000000</td>\n",
       "      <td>1250.000000</td>\n",
       "      <td>629.000000</td>\n",
       "      <td>58.500000</td>\n",
       "      <td>327.000000</td>\n",
       "      <td>365.000000</td>\n",
       "    </tr>\n",
       "  </tbody>\n",
       "</table>\n",
       "</div>"
      ],
      "text/plain": [
       "            host_id      latitude     longitude         price  minimum_nights  \\\n",
       "count  4.889500e+04  48895.000000  48895.000000  48895.000000    48895.000000   \n",
       "mean   6.762001e+07     40.728949    -73.952170    152.720687        7.029962   \n",
       "std    7.861097e+07      0.054530      0.046157    240.154170       20.510550   \n",
       "min    2.438000e+03     40.499790    -74.244420      0.000000        1.000000   \n",
       "25%    7.822033e+06     40.690100    -73.983070     69.000000        1.000000   \n",
       "50%    3.079382e+07     40.723070    -73.955680    106.000000        3.000000   \n",
       "75%    1.074344e+08     40.763115    -73.936275    175.000000        5.000000   \n",
       "max    2.743213e+08     40.913060    -73.712990  10000.000000     1250.000000   \n",
       "\n",
       "       number_of_reviews  reviews_per_month  calculated_host_listings_count  \\\n",
       "count       48895.000000       48895.000000                    48895.000000   \n",
       "mean           23.274466           1.090910                        7.143982   \n",
       "std            44.550582           1.597283                       32.952519   \n",
       "min             0.000000           0.000000                        1.000000   \n",
       "25%             1.000000           0.040000                        1.000000   \n",
       "50%             5.000000           0.370000                        1.000000   \n",
       "75%            24.000000           1.580000                        2.000000   \n",
       "max           629.000000          58.500000                      327.000000   \n",
       "\n",
       "       availability_365  \n",
       "count      48895.000000  \n",
       "mean         112.781327  \n",
       "std          131.622289  \n",
       "min            0.000000  \n",
       "25%            0.000000  \n",
       "50%           45.000000  \n",
       "75%          227.000000  \n",
       "max          365.000000  "
      ]
     },
     "execution_count": 20,
     "metadata": {},
     "output_type": "execute_result"
    }
   ],
   "source": [
    "# Statistics of the numerical columns in the DataFrame\n",
    "df.describe()"
   ]
  },
  {
   "cell_type": "markdown",
   "id": "eb68dc64-cfbb-469a-9f72-f2793bb87a4d",
   "metadata": {},
   "source": [
    "### Observations on Potential Outliers\n",
    "\n",
    "Based on the output, we observe the following potential outliers in the dataset:\n",
    "\n",
    "- **'price'**: The minimum value is 0, which is unusual, and the maximum price is 10,000, significantly higher than the 75th percentile. Additionally, the column has a high standard deviation, suggesting variability in the data.\n",
    "- **'minimum_nights'**: The maximum value of 1,250 is much higher than the 75th percentile, which could indicate the presence of outliers.\n",
    "- **'number_of_reviews'**: The maximum value of 629 is far above the 75th percentile, signaling a possible outlier.\n",
    "- **'reviews_per_month'**: A maximum of 58.5 reviews per month is much higher than the 75th percentile, which may point to an outlier.\n",
    "- **'calculated_host_listings_count'**: With a maximum value of 327, which is substantially higher than the 75th percentile, this column may also contain outliers.\n",
    "\n",
    "These observations suggest that there may be outliers in these columns, and it is crucial to investigate further. We need to determine if these values should be treated as genuine data points, adjusted, or removed in order to avoid distorting the analysis."
   ]
  },
  {
   "cell_type": "code",
   "execution_count": 21,
   "id": "cf70b4eb-ac69-4a25-8435-b35753ec5ee0",
   "metadata": {},
   "outputs": [],
   "source": [
    "outlier_cols = [\n",
    "    'price', 'minimum_nights', 'number_of_reviews', \n",
    "    'reviews_per_month', 'calculated_host_listings_count'\n",
    "]"
   ]
  },
  {
   "cell_type": "code",
   "execution_count": 22,
   "id": "180e9c19-8109-4a8e-b027-c9ab06b63689",
   "metadata": {},
   "outputs": [
    {
     "data": {
      "image/png": "[encoded data removed]",
      "text/plain": [
       "<Figure size 500x500 with 1 Axes>"
      ]
     },
     "metadata": {},
     "output_type": "display_data"
    },
    {
     "data": {
      "image/png": "[encoded data removed]",
      "text/plain": [
       "<Figure size 500x500 with 1 Axes>"
      ]
     },
     "metadata": {},
     "output_type": "display_data"
    },
    {
     "data": {
      "image/png": "[encoded data removed]",
      "text/plain": [
       "<Figure size 500x500 with 1 Axes>"
      ]
     },
     "metadata": {},
     "output_type": "display_data"
    },
    {
     "data": {
      "image/png": "[encoded data removed]",
      "text/plain": [
       "<Figure size 500x500 with 1 Axes>"
      ]
     },
     "metadata": {},
     "output_type": "display_data"
    },
    {
     "data": {
      "image/png": "[encoded data removed]",
      "text/plain": [
       "<Figure size 500x500 with 1 Axes>"
      ]
     },
     "metadata": {},
     "output_type": "display_data"
    }
   ],
   "source": [
    "for col in outlier_cols:\n",
    "    plt.figure(figsize=(5, 5))\n",
    "    sns.boxplot(x=df[col])\n",
    "    plt.show()"
   ]
  },
  {
   "cell_type": "markdown",
   "id": "386d1c67-7e6c-420a-81d3-0737d430d0f9",
   "metadata": {},
   "source": [
    "### Confirmation of Outliers\n",
    "\n",
    "Upon further investigation, it is clear that outliers are present in all of the columns mentioned:\n",
    "\n",
    "- **'price'**\n",
    "- **'minimum_nights'**\n",
    "- **'number_of_reviews'**\n",
    "- **'reviews_per_month'**\n",
    "- **'calculated_host_listings_count'**\n",
    "\n",
    "These outliers need to be addressed in the data cleaning process to ensure the accuracy and reliability of any subsequent analysis."
   ]
  },
  {
   "cell_type": "markdown",
   "id": "93d391c0-2e66-433d-8a9e-a5af5af396bf",
   "metadata": {},
   "source": [
    "### Z-Score Method for Detecting Outliers\n",
    "\n",
    "Another effective method for detecting outliers is the **Z-score**, which calculates how many standard deviations a data point is from the mean. If a data point falls outside a specified threshold (commonly beyond 3 standard deviations from the mean), it is considered an outlier.\n",
    "\n",
    "We can apply this method to identify outliers in all numerical columns of the dataset."
   ]
  },
  {
   "cell_type": "code",
   "execution_count": 23,
   "id": "3fc63482-4b40-4e82-8a64-d3e88e48f6c5",
   "metadata": {},
   "outputs": [
    {
     "name": "stdout",
     "output_type": "stream",
     "text": [
      "latitude: 99\n",
      "longitude: 1236\n",
      "price: 388\n",
      "minimum_nights: 327\n",
      "number_of_reviews: 1221\n",
      "reviews_per_month: 847\n",
      "calculated_host_listings_count: 680\n"
     ]
    }
   ],
   "source": [
    "# Select numeric columns\n",
    "df_numeric = df.select_dtypes(include=[np.number])\n",
    "\n",
    "for col in df_numeric.columns:\n",
    "    # Calculate z-score of the column\n",
    "    z_score = np.abs(stats.zscore(df[col]))\n",
    "    outliers_num = len(np.where(z_score > 3)[0])\n",
    "    if outliers_num:\n",
    "        print('{}: {}'.format(col, outliers_num))"
   ]
  },
  {
   "cell_type": "markdown",
   "id": "718d6b8a-c1a7-4997-93e7-a73937fd6c58",
   "metadata": {},
   "source": [
    "### Insights from the Z-Score Method\n",
    "\n",
    "Using the Z-score method, we were able to identify outliers that were not apparent when simply examining the summary statistics in the `describe()` table. This highlights the value of applying multiple techniques for detecting outliers to ensure a more comprehensive analysis of the data."
   ]
  },
  {
   "cell_type": "code",
   "execution_count": 24,
   "id": "abf49499-03db-41ee-8393-a40ba7b47437",
   "metadata": {},
   "outputs": [],
   "source": [
    "sns.boxplot(x=df['latitude']);  plt.show();"
   ]
  },
  {
   "cell_type": "code",
   "execution_count": 25,
   "id": "bd5b5f42-502e-46d8-8038-8ff6e81e8f95",
   "metadata": {},
   "outputs": [],
   "source": [
    "sns.boxplot(x=df['longitude']); plt.show();"
   ]
  },
  {
   "cell_type": "markdown",
   "id": "a30b3e31-b86a-4ee1-895b-96b831bcd22c",
   "metadata": {},
   "source": [
    "### Handling Outliers\n",
    "\n",
    "There are several approaches to address outliers in a dataset:\n",
    "\n",
    "- **Remove the outliers**: One option is to remove rows containing outliers. However, this may result in the loss of valuable data and potentially reduce the accuracy of your model. It's important to carefully assess whether removing outliers is justified and ensures that it won't compromise the analysis.\n",
    "\n",
    "- **Replace the outliers**: Another approach is to replace outliers with more reasonable values, such as the mean, median, or mode of the column. This helps maintain the integrity of the dataset while mitigating the impact of extreme values.\n",
    "\n",
    "- **Transform the data**: Data transformation techniques, such as **log transformation** or **Box-Cox transformation**, can be applied to reduce the effect of outliers. These methods also improve the overall distribution of the data, making it more suitable for analysis."
   ]
  },
  {
   "cell_type": "markdown",
   "id": "f17562d9-8835-43f5-af4f-fe9f830aef11",
   "metadata": {},
   "source": [
    "### Using the Z-Score Method to Remove Outliers\n",
    "\n",
    "We can apply the **Z-score method** to identify and remove outliers from the dataset. By calculating the Z-score for each data point, we can determine which values are more than a certain number of standard deviations away from the mean (typically, a Z-score above 3 or below -3). These values can then be removed from the dataset to ensure that extreme outliers do not skew the analysis.\n"
   ]
  },
  {
   "cell_type": "code",
   "execution_count": 26,
   "id": "a7cc0752-f455-4aaa-b9d0-a4073f1c2a10",
   "metadata": {},
   "outputs": [
    {
     "data": {
      "text/plain": [
       "(44475, 13)"
      ]
     },
     "execution_count": 26,
     "metadata": {},
     "output_type": "execute_result"
    }
   ],
   "source": [
    "z_scores = np.abs(stats.zscore(df_numeric))\n",
    "\n",
    "# DataFrame without outliers\n",
    "df_wo_outliers = df[(z_scores < 3).all(axis=1)]\n",
    "df_wo_outliers.shape"
   ]
  },
  {
   "cell_type": "markdown",
   "id": "80149c94-3c86-44bd-a484-6e6f1f86f472",
   "metadata": {},
   "source": [
    "### Conclusion\n",
    "\n",
    "We've covered the key steps in data cleaning, including identifying and handling duplicates, dealing with missing values, and detecting and managing outliers. By following these steps, you can ensure that your dataset is clean, consistent, and ready for analysis.\n",
    "\n",
    "Thank you for reading! I hope this guide has been both informative and helpful in understanding the fundamentals of data cleaning."
   ]
  }
 ],
 "metadata": {
  "kernelspec": {
   "display_name": "Python 3 (ipykernel)",
   "language": "python",
   "name": "python3"
  },
  "language_info": {
   "codemirror_mode": {
    "name": "ipython",
    "version": 3
   },
   "file_extension": ".py",
   "mimetype": "text/x-python",
   "name": "python",
   "nbconvert_exporter": "python",
   "pygments_lexer": "ipython3",
   "version": "3.12.4"
  }
 },
 "nbformat": 4,
 "nbformat_minor": 5
}
